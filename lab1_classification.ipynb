{
 "cells": [
  {
   "cell_type": "markdown",
   "metadata": {},
   "source": [
    "### laba 1"
   ]
  },
  {
   "cell_type": "markdown",
   "metadata": {},
   "source": [
    "### Задача классификации. Данные в датасете хранятся из отчетов МЧС <p> Основной датасет будет доступен архивом под названием wildfires-data-train.zip по ссылке: <br>&diams;<em> https://drive.google.com/file/d/1xCGBWdT_Xxp-TtWWExA_wf4nnPjhrigU/view?usp=sharing</em></p>"
   ]
  },
  {
   "cell_type": "markdown",
   "metadata": {},
   "source": [
    "Необходимо по информации о точке температурной аномалии, классифицировать тип пожара (по классификации МЧС).\n",
    "<br>Основной датасет называется \"wildfires_train.csv\". В нем находятся следующие признаки:\n",
    "<br>1) date - дата проявления одного из типов пожара\n",
    "<br>2) fire_type - тип пожара значения от 1 до 11 (наш целевой признак)\n",
    "<br>3) fire_type_name - описания события пожар (возможно, можно опознать выбросы по этому признаку)\n",
    "<br>4) latitude - широта (координаты возможного возгорания)\n",
    "<br>5) longitude - долгота (координаты возможного возгорания)\n",
    "<br>6) temperature - температура в точке в определенный момент времени\n",
    "<br>7) t1w - показатель температуры за 1 неделю до момента регистрации точки\n",
    "<br>8) t2w - показатель температуры за 2 недели до момента регистрации точки\n",
    "<br>9) t3w - показатель температуры за 3 недели до момента регистрации точки\n",
    "<br>10) humidity - относительная влажность в определенной точке\n",
    "<br>11) h1w - показатель влажности за 1 неделю до момента регистрации точки\n",
    "<br>12) h2w - показатель влажности за 2 недели до момента регистрации точки\n",
    "<br>13) h3w - показатель влажности за 3 недели до момента регистрации точки\n",
    "<br>14) uwind - показатель компонент воздуха в точке"
   ]
  },
  {
   "cell_type": "code",
   "execution_count": 159,
   "metadata": {},
   "outputs": [],
   "source": [
    "import numpy as np\n",
    "import pandas as pd\n",
    "import xarray\n",
    "from tqdm import tqdm_notebook as tqdm\n",
    "import matplotlib.pyplot as plt\n",
    "import requests\n",
    "import datetime\n",
    "from sklearn.ensemble import GradientBoostingClassifier\n",
    "from sklearn.model_selection import cross_val_score\n",
    "from sklearn.model_selection import train_test_split\n",
    "from sklearn.metrics import confusion_matrix\n",
    "from sklearn.neighbors import KNeighborsClassifier\n",
    "import seaborn as sns\n",
    "from sklearn import preprocessing\n",
    "from sklearn.model_selection import GridSearchCV\n",
    "from sklearn.ensemble import ExtraTreesClassifier\n",
    "from sklearn.feature_selection import SelectFromModel\n",
    "from sklearn.utils import resample\n",
    "\n",
    "%matplotlib inline"
   ]
  },
  {
   "cell_type": "markdown",
   "metadata": {},
   "source": [
    "## NCEP Dataset\n",
    "Известный датасет, который хранит в себе погодный данные из проекта NCEP Reanalysis 2 - усредненные за день данные по <b>температуре воздуха, отнсительная влажность и компоненты воздуха с 1979 года. </b>\n",
    "<br>Нам потребуются данные начиная с 2012 года. В ссылках меняем год каждый раз до 2019</br>\n",
    "<br>Требуется загрузить набор данных в каталог <em>data/ncep</em>:</br>\n",
    "<br>&diams; https://www.esrl.noaa.gov/psd/thredds/fileServer/Datasets/ncep/air.2012.nc</br>\n",
    "<br>&diams; https://www.esrl.noaa.gov/psd/thredds/fileServer/Datasets/ncep/uwnd.2012.nc</br>\n",
    "<br>&diams; https://www.esrl.noaa.gov/psd/thredds/fileServer/Datasets/ncep/rhum.2012.nc</br>"
   ]
  },
  {
   "cell_type": "markdown",
   "metadata": {},
   "source": [
    "#### К сожалению данные у меня будут только за период 2018-2019 из-за этого выборка из 170 000 наблюдений сократится до ~ 22 000 наблюдений из-за чего результат ухудшится. \n",
    "<p>Просто если я загружаю погодные данные за период 2012-2019 то не хватает оперативной памяти чтобы смержить все эти данные вместе. Пробовал в colab, также не хватило 12gb оперативки. Возможно это из-за того, как я решил временно хранить данные о погодных условиях. <br>Буду рад обсудить данный момент в день экзамена</p>"
   ]
  },
  {
   "cell_type": "code",
   "execution_count": 2,
   "metadata": {},
   "outputs": [
    {
     "name": "stderr",
     "output_type": "stream",
     "text": [
      "/home/topus/anaconda3/lib/python3.7/site-packages/xarray/conventions.py:494: SerializationWarning: variable 'air' has multiple fill values {-99, 32767}, decoding all values to NaN.\n",
      "  use_cftime=use_cftime,\n",
      "/home/topus/anaconda3/lib/python3.7/site-packages/xarray/conventions.py:494: SerializationWarning: variable 'uwnd' has multiple fill values {-99, 32767}, decoding all values to NaN.\n",
      "  use_cftime=use_cftime,\n",
      "/home/topus/anaconda3/lib/python3.7/site-packages/xarray/conventions.py:494: SerializationWarning: variable 'rhum' has multiple fill values {-99, 32767}, decoding all values to NaN.\n",
      "  use_cftime=use_cftime,\n"
     ]
    }
   ],
   "source": [
    "ncep_data = []\n",
    "year = 2018\n",
    "for var in ('air', 'uwnd', 'rhum'):\n",
    "    dataset_filename = '/home/topus/zolotyh/data/ncep/ncep/{}.{}.nc'.format(var, year)\n",
    "    ncep_data.append(xarray.open_dataset(dataset_filename))\n",
    "ncep_data = xarray.merge(ncep_data)"
   ]
  },
  {
   "cell_type": "markdown",
   "metadata": {},
   "source": [
    "## Набор признаков на основе данных NCEP Reamalysis 2\n",
    "<br>Ищем наиболее близкий к точке узел сетки в наборе NCEP, в качестве признаков значения переменных зарегистрированные в день регистрации точки и агрегированные показатели за период от 1 до 3х недель до момента регистрации точки. Точка определяется исходя из координат долгота и широта"
   ]
  },
  {
   "cell_type": "code",
   "execution_count": 3,
   "metadata": {},
   "outputs": [],
   "source": [
    "def extract_features(row):\n",
    "    point = ncep_data.sel(\n",
    "        lon=row['longitude'],\n",
    "        lat=row['latitude'],\n",
    "        level=1000,\n",
    "        method='nearest',\n",
    "    )\n",
    "\n",
    "    p1w = point.rolling(time=7).mean()\n",
    "    p2w = point.rolling(time=14).mean()\n",
    "    p3w = point.rolling(time=21).mean()\n",
    "    \n",
    "    date = row['date']\n",
    "    v = point.sel(time=date)\n",
    "    v1w = p1w.sel(time=date)\n",
    "    v2w = p2w.sel(time=date)\n",
    "    v3w = p3w.sel(time=date)\n",
    "    \n",
    "    return {\n",
    "        'fire_type': row['fire_type'],\n",
    "        'fire_type_name': row['fire_type_name'],\n",
    "        'date': row['date'], \n",
    "        'temperature': v.air.values.item(0),\n",
    "        'humidity': v.rhum.values.item(0),\n",
    "        'uwind': v.uwnd.values.item(0),\n",
    "        't1w': v1w.air.values.item(0),\n",
    "        't2w': v2w.air.values.item(0),\n",
    "        't3w': v3w.air.values.item(0),\n",
    "        'h1w': v1w.rhum.values.item(0),\n",
    "        'h2w': v2w.rhum.values.item(0),\n",
    "        'h3w': v3w.rhum.values.item(0)\n",
    "    }"
   ]
  },
  {
   "cell_type": "markdown",
   "metadata": {},
   "source": [
    "Получаем наш конечный датасет, который позже разделим на тренировочную и тестовую выборки"
   ]
  },
  {
   "cell_type": "code",
   "execution_count": 5,
   "metadata": {},
   "outputs": [
    {
     "data": {
      "application/vnd.jupyter.widget-view+json": {
       "model_id": "35f5dfc1b0fb42b494068b8da2ba0d72",
       "version_major": 2,
       "version_minor": 0
      },
      "text/plain": [
       "HBox(children=(IntProgress(value=0, max=22820), HTML(value='')))"
      ]
     },
     "metadata": {},
     "output_type": "display_data"
    },
    {
     "name": "stdout",
     "output_type": "stream",
     "text": [
      "\n"
     ]
    }
   ],
   "source": [
    "df_train = pd.read_csv('/home/topus/zolotyh/data/wildfires_train.csv')\n",
    "df_subsample = df_train.query('(date >= \"2018\") & (date <= \"2019\")')\n",
    "\n",
    "df_features = []\n",
    "for i, row in tqdm(df_subsample.iterrows(), total=df_subsample.shape[0]):\n",
    "    features = extract_features(row)\n",
    "    df_features.append(features)\n",
    "\n",
    "df_features = pd.DataFrame(df_features)"
   ]
  },
  {
   "cell_type": "code",
   "execution_count": 6,
   "metadata": {},
   "outputs": [
    {
     "data": {
      "text/html": [
       "<div>\n",
       "<style scoped>\n",
       "    .dataframe tbody tr th:only-of-type {\n",
       "        vertical-align: middle;\n",
       "    }\n",
       "\n",
       "    .dataframe tbody tr th {\n",
       "        vertical-align: top;\n",
       "    }\n",
       "\n",
       "    .dataframe thead th {\n",
       "        text-align: right;\n",
       "    }\n",
       "</style>\n",
       "<table border=\"1\" class=\"dataframe\">\n",
       "  <thead>\n",
       "    <tr style=\"text-align: right;\">\n",
       "      <th></th>\n",
       "      <th>date</th>\n",
       "      <th>fire_type</th>\n",
       "      <th>fire_type_name</th>\n",
       "      <th>h1w</th>\n",
       "      <th>h2w</th>\n",
       "      <th>h3w</th>\n",
       "      <th>humidity</th>\n",
       "      <th>t1w</th>\n",
       "      <th>t2w</th>\n",
       "      <th>t3w</th>\n",
       "      <th>temperature</th>\n",
       "      <th>uwind</th>\n",
       "    </tr>\n",
       "  </thead>\n",
       "  <tbody>\n",
       "    <tr>\n",
       "      <th>0</th>\n",
       "      <td>2018-01-01</td>\n",
       "      <td>3</td>\n",
       "      <td>горение мусора</td>\n",
       "      <td>NaN</td>\n",
       "      <td>NaN</td>\n",
       "      <td>NaN</td>\n",
       "      <td>87.479996</td>\n",
       "      <td>NaN</td>\n",
       "      <td>NaN</td>\n",
       "      <td>NaN</td>\n",
       "      <td>253.160004</td>\n",
       "      <td>0.229996</td>\n",
       "    </tr>\n",
       "    <tr>\n",
       "      <th>1</th>\n",
       "      <td>2018-01-01</td>\n",
       "      <td>9</td>\n",
       "      <td>природный пожар</td>\n",
       "      <td>NaN</td>\n",
       "      <td>NaN</td>\n",
       "      <td>NaN</td>\n",
       "      <td>94.029999</td>\n",
       "      <td>NaN</td>\n",
       "      <td>NaN</td>\n",
       "      <td>NaN</td>\n",
       "      <td>253.479996</td>\n",
       "      <td>-0.809998</td>\n",
       "    </tr>\n",
       "    <tr>\n",
       "      <th>2</th>\n",
       "      <td>2018-01-01</td>\n",
       "      <td>3</td>\n",
       "      <td>горение мусора</td>\n",
       "      <td>NaN</td>\n",
       "      <td>NaN</td>\n",
       "      <td>NaN</td>\n",
       "      <td>99.130005</td>\n",
       "      <td>NaN</td>\n",
       "      <td>NaN</td>\n",
       "      <td>NaN</td>\n",
       "      <td>249.009995</td>\n",
       "      <td>1.490005</td>\n",
       "    </tr>\n",
       "    <tr>\n",
       "      <th>3</th>\n",
       "      <td>2018-01-01</td>\n",
       "      <td>4</td>\n",
       "      <td>сжигание порубочных остатков</td>\n",
       "      <td>NaN</td>\n",
       "      <td>NaN</td>\n",
       "      <td>NaN</td>\n",
       "      <td>89.630005</td>\n",
       "      <td>NaN</td>\n",
       "      <td>NaN</td>\n",
       "      <td>NaN</td>\n",
       "      <td>255.229996</td>\n",
       "      <td>1.770004</td>\n",
       "    </tr>\n",
       "    <tr>\n",
       "      <th>4</th>\n",
       "      <td>2018-01-02</td>\n",
       "      <td>4</td>\n",
       "      <td>сжигание порубочных остатков</td>\n",
       "      <td>NaN</td>\n",
       "      <td>NaN</td>\n",
       "      <td>NaN</td>\n",
       "      <td>92.300003</td>\n",
       "      <td>NaN</td>\n",
       "      <td>NaN</td>\n",
       "      <td>NaN</td>\n",
       "      <td>256.910004</td>\n",
       "      <td>0.690002</td>\n",
       "    </tr>\n",
       "  </tbody>\n",
       "</table>\n",
       "</div>"
      ],
      "text/plain": [
       "         date  fire_type                fire_type_name  h1w  h2w  h3w  \\\n",
       "0  2018-01-01          3                горение мусора  NaN  NaN  NaN   \n",
       "1  2018-01-01          9               природный пожар  NaN  NaN  NaN   \n",
       "2  2018-01-01          3                горение мусора  NaN  NaN  NaN   \n",
       "3  2018-01-01          4  сжигание порубочных остатков  NaN  NaN  NaN   \n",
       "4  2018-01-02          4  сжигание порубочных остатков  NaN  NaN  NaN   \n",
       "\n",
       "    humidity  t1w  t2w  t3w  temperature     uwind  \n",
       "0  87.479996  NaN  NaN  NaN   253.160004  0.229996  \n",
       "1  94.029999  NaN  NaN  NaN   253.479996 -0.809998  \n",
       "2  99.130005  NaN  NaN  NaN   249.009995  1.490005  \n",
       "3  89.630005  NaN  NaN  NaN   255.229996  1.770004  \n",
       "4  92.300003  NaN  NaN  NaN   256.910004  0.690002  "
      ]
     },
     "execution_count": 6,
     "metadata": {},
     "output_type": "execute_result"
    }
   ],
   "source": [
    "df_features.head(5)"
   ]
  },
  {
   "cell_type": "code",
   "execution_count": 7,
   "metadata": {},
   "outputs": [
    {
     "name": "stdout",
     "output_type": "stream",
     "text": [
      "<class 'pandas.core.frame.DataFrame'>\n",
      "RangeIndex: 22820 entries, 0 to 22819\n",
      "Data columns (total 12 columns):\n",
      "date              22820 non-null object\n",
      "fire_type         22820 non-null int64\n",
      "fire_type_name    22820 non-null object\n",
      "h1w               22802 non-null float64\n",
      "h2w               22773 non-null float64\n",
      "h3w               22737 non-null float64\n",
      "humidity          22820 non-null float64\n",
      "t1w               22802 non-null float64\n",
      "t2w               22773 non-null float64\n",
      "t3w               22737 non-null float64\n",
      "temperature       22820 non-null float64\n",
      "uwind             22820 non-null float64\n",
      "dtypes: float64(9), int64(1), object(2)\n",
      "memory usage: 2.1+ MB\n"
     ]
    }
   ],
   "source": [
    "df_features.info()"
   ]
  },
  {
   "cell_type": "code",
   "execution_count": 8,
   "metadata": {},
   "outputs": [
    {
     "data": {
      "text/html": [
       "<div>\n",
       "<style scoped>\n",
       "    .dataframe tbody tr th:only-of-type {\n",
       "        vertical-align: middle;\n",
       "    }\n",
       "\n",
       "    .dataframe tbody tr th {\n",
       "        vertical-align: top;\n",
       "    }\n",
       "\n",
       "    .dataframe thead th {\n",
       "        text-align: right;\n",
       "    }\n",
       "</style>\n",
       "<table border=\"1\" class=\"dataframe\">\n",
       "  <thead>\n",
       "    <tr style=\"text-align: right;\">\n",
       "      <th></th>\n",
       "      <th>fire_type</th>\n",
       "      <th>h1w</th>\n",
       "      <th>h2w</th>\n",
       "      <th>h3w</th>\n",
       "      <th>humidity</th>\n",
       "      <th>t1w</th>\n",
       "      <th>t2w</th>\n",
       "      <th>t3w</th>\n",
       "      <th>temperature</th>\n",
       "      <th>uwind</th>\n",
       "    </tr>\n",
       "  </thead>\n",
       "  <tbody>\n",
       "    <tr>\n",
       "      <th>count</th>\n",
       "      <td>22820.000000</td>\n",
       "      <td>22802.000000</td>\n",
       "      <td>22773.000000</td>\n",
       "      <td>22737.000000</td>\n",
       "      <td>22820.000000</td>\n",
       "      <td>22802.000000</td>\n",
       "      <td>22773.000000</td>\n",
       "      <td>22737.000000</td>\n",
       "      <td>22820.000000</td>\n",
       "      <td>22820.000000</td>\n",
       "    </tr>\n",
       "    <tr>\n",
       "      <th>mean</th>\n",
       "      <td>8.006836</td>\n",
       "      <td>58.469738</td>\n",
       "      <td>61.559803</td>\n",
       "      <td>63.200055</td>\n",
       "      <td>53.192548</td>\n",
       "      <td>281.677348</td>\n",
       "      <td>280.893567</td>\n",
       "      <td>280.147403</td>\n",
       "      <td>282.568087</td>\n",
       "      <td>0.663076</td>\n",
       "    </tr>\n",
       "    <tr>\n",
       "      <th>std</th>\n",
       "      <td>2.435521</td>\n",
       "      <td>13.869626</td>\n",
       "      <td>13.032649</td>\n",
       "      <td>12.790965</td>\n",
       "      <td>16.376868</td>\n",
       "      <td>8.661417</td>\n",
       "      <td>8.627909</td>\n",
       "      <td>8.907320</td>\n",
       "      <td>9.420266</td>\n",
       "      <td>3.342818</td>\n",
       "    </tr>\n",
       "    <tr>\n",
       "      <th>min</th>\n",
       "      <td>1.000000</td>\n",
       "      <td>21.301428</td>\n",
       "      <td>24.717136</td>\n",
       "      <td>28.319517</td>\n",
       "      <td>14.329987</td>\n",
       "      <td>235.308563</td>\n",
       "      <td>235.762878</td>\n",
       "      <td>237.569031</td>\n",
       "      <td>234.339996</td>\n",
       "      <td>-16.419998</td>\n",
       "    </tr>\n",
       "    <tr>\n",
       "      <th>25%</th>\n",
       "      <td>6.000000</td>\n",
       "      <td>49.008537</td>\n",
       "      <td>52.695728</td>\n",
       "      <td>54.738571</td>\n",
       "      <td>41.250000</td>\n",
       "      <td>276.910034</td>\n",
       "      <td>275.808594</td>\n",
       "      <td>274.875763</td>\n",
       "      <td>277.539978</td>\n",
       "      <td>-0.979996</td>\n",
       "    </tr>\n",
       "    <tr>\n",
       "      <th>50%</th>\n",
       "      <td>9.000000</td>\n",
       "      <td>58.526449</td>\n",
       "      <td>61.877918</td>\n",
       "      <td>64.170006</td>\n",
       "      <td>52.339996</td>\n",
       "      <td>281.487152</td>\n",
       "      <td>280.482117</td>\n",
       "      <td>279.543854</td>\n",
       "      <td>282.690002</td>\n",
       "      <td>0.929993</td>\n",
       "    </tr>\n",
       "    <tr>\n",
       "      <th>75%</th>\n",
       "      <td>10.000000</td>\n",
       "      <td>68.235748</td>\n",
       "      <td>71.239967</td>\n",
       "      <td>72.820946</td>\n",
       "      <td>64.639999</td>\n",
       "      <td>287.043533</td>\n",
       "      <td>285.830750</td>\n",
       "      <td>285.285217</td>\n",
       "      <td>289.039978</td>\n",
       "      <td>2.729996</td>\n",
       "    </tr>\n",
       "    <tr>\n",
       "      <th>max</th>\n",
       "      <td>11.000000</td>\n",
       "      <td>98.707169</td>\n",
       "      <td>97.955711</td>\n",
       "      <td>97.722824</td>\n",
       "      <td>100.000000</td>\n",
       "      <td>304.605774</td>\n",
       "      <td>303.566376</td>\n",
       "      <td>302.515625</td>\n",
       "      <td>306.059998</td>\n",
       "      <td>12.179993</td>\n",
       "    </tr>\n",
       "  </tbody>\n",
       "</table>\n",
       "</div>"
      ],
      "text/plain": [
       "          fire_type           h1w           h2w           h3w      humidity  \\\n",
       "count  22820.000000  22802.000000  22773.000000  22737.000000  22820.000000   \n",
       "mean       8.006836     58.469738     61.559803     63.200055     53.192548   \n",
       "std        2.435521     13.869626     13.032649     12.790965     16.376868   \n",
       "min        1.000000     21.301428     24.717136     28.319517     14.329987   \n",
       "25%        6.000000     49.008537     52.695728     54.738571     41.250000   \n",
       "50%        9.000000     58.526449     61.877918     64.170006     52.339996   \n",
       "75%       10.000000     68.235748     71.239967     72.820946     64.639999   \n",
       "max       11.000000     98.707169     97.955711     97.722824    100.000000   \n",
       "\n",
       "                t1w           t2w           t3w   temperature         uwind  \n",
       "count  22802.000000  22773.000000  22737.000000  22820.000000  22820.000000  \n",
       "mean     281.677348    280.893567    280.147403    282.568087      0.663076  \n",
       "std        8.661417      8.627909      8.907320      9.420266      3.342818  \n",
       "min      235.308563    235.762878    237.569031    234.339996    -16.419998  \n",
       "25%      276.910034    275.808594    274.875763    277.539978     -0.979996  \n",
       "50%      281.487152    280.482117    279.543854    282.690002      0.929993  \n",
       "75%      287.043533    285.830750    285.285217    289.039978      2.729996  \n",
       "max      304.605774    303.566376    302.515625    306.059998     12.179993  "
      ]
     },
     "execution_count": 8,
     "metadata": {},
     "output_type": "execute_result"
    }
   ],
   "source": [
    "df_features.describe()"
   ]
  },
  {
   "cell_type": "code",
   "execution_count": 9,
   "metadata": {},
   "outputs": [
    {
     "data": {
      "text/plain": [
       "(22820, 12)"
      ]
     },
     "execution_count": 9,
     "metadata": {},
     "output_type": "execute_result"
    }
   ],
   "source": [
    "df_features.shape"
   ]
  },
  {
   "cell_type": "code",
   "execution_count": 10,
   "metadata": {},
   "outputs": [
    {
     "data": {
      "text/plain": [
       "date               0\n",
       "fire_type          0\n",
       "fire_type_name     0\n",
       "h1w               18\n",
       "h2w               47\n",
       "h3w               83\n",
       "humidity           0\n",
       "t1w               18\n",
       "t2w               47\n",
       "t3w               83\n",
       "temperature        0\n",
       "uwind              0\n",
       "dtype: int64"
      ]
     },
     "execution_count": 10,
     "metadata": {},
     "output_type": "execute_result"
    }
   ],
   "source": [
    "#Проверим на NA's\n",
    "df_features.isnull().sum()"
   ]
  },
  {
   "cell_type": "code",
   "execution_count": 11,
   "metadata": {},
   "outputs": [
    {
     "data": {
      "text/plain": [
       "fire_type        9.000000\n",
       "h1w             58.526449\n",
       "h2w             61.877918\n",
       "h3w             64.170006\n",
       "humidity        52.339996\n",
       "t1w            281.487152\n",
       "t2w            280.482117\n",
       "t3w            279.543854\n",
       "temperature    282.690002\n",
       "uwind            0.929993\n",
       "dtype: float64"
      ]
     },
     "execution_count": 11,
     "metadata": {},
     "output_type": "execute_result"
    }
   ],
   "source": [
    "# Требуется убрать пустые значения или заполнить. \n",
    "# Выбираем самый простой путь заполнения медиана.\n",
    "df_features.median(axis=0)"
   ]
  },
  {
   "cell_type": "code",
   "execution_count": 12,
   "metadata": {},
   "outputs": [],
   "source": [
    "df_features = df_features.fillna(df_features.median(axis = 0), axis = 0)"
   ]
  },
  {
   "cell_type": "code",
   "execution_count": 13,
   "metadata": {},
   "outputs": [
    {
     "data": {
      "text/plain": [
       "date              22820\n",
       "fire_type         22820\n",
       "fire_type_name    22820\n",
       "h1w               22820\n",
       "h2w               22820\n",
       "h3w               22820\n",
       "humidity          22820\n",
       "t1w               22820\n",
       "t2w               22820\n",
       "t3w               22820\n",
       "temperature       22820\n",
       "uwind             22820\n",
       "dtype: int64"
      ]
     },
     "execution_count": 13,
     "metadata": {},
     "output_type": "execute_result"
    }
   ],
   "source": [
    "df_features.count(axis = 0)"
   ]
  },
  {
   "cell_type": "code",
   "execution_count": 14,
   "metadata": {
    "scrolled": false
   },
   "outputs": [],
   "source": [
    "# переменная date нам более не понадобится, поэтому выкидываем из датасета.\n",
    "df_features = df_features.drop(columns=['date'])"
   ]
  },
  {
   "cell_type": "code",
   "execution_count": 15,
   "metadata": {},
   "outputs": [
    {
     "data": {
      "text/plain": [
       "Index(['fire_type', 'fire_type_name', 'h1w', 'h2w', 'h3w', 'humidity', 't1w',\n",
       "       't2w', 't3w', 'temperature', 'uwind'],\n",
       "      dtype='object')"
      ]
     },
     "execution_count": 15,
     "metadata": {},
     "output_type": "execute_result"
    }
   ],
   "source": [
    "df_features.columns"
   ]
  },
  {
   "cell_type": "code",
   "execution_count": 16,
   "metadata": {},
   "outputs": [
    {
     "data": {
      "text/html": [
       "<div>\n",
       "<style scoped>\n",
       "    .dataframe tbody tr th:only-of-type {\n",
       "        vertical-align: middle;\n",
       "    }\n",
       "\n",
       "    .dataframe tbody tr th {\n",
       "        vertical-align: top;\n",
       "    }\n",
       "\n",
       "    .dataframe thead th {\n",
       "        text-align: right;\n",
       "    }\n",
       "</style>\n",
       "<table border=\"1\" class=\"dataframe\">\n",
       "  <thead>\n",
       "    <tr style=\"text-align: right;\">\n",
       "      <th></th>\n",
       "      <th>fire_type</th>\n",
       "      <th>fire_type_name</th>\n",
       "      <th>h1w</th>\n",
       "      <th>h2w</th>\n",
       "      <th>h3w</th>\n",
       "      <th>humidity</th>\n",
       "      <th>t1w</th>\n",
       "      <th>t2w</th>\n",
       "      <th>t3w</th>\n",
       "      <th>temperature</th>\n",
       "      <th>uwind</th>\n",
       "    </tr>\n",
       "  </thead>\n",
       "  <tbody>\n",
       "    <tr>\n",
       "      <th>0</th>\n",
       "      <td>3</td>\n",
       "      <td>горение мусора</td>\n",
       "      <td>58.526449</td>\n",
       "      <td>61.877918</td>\n",
       "      <td>64.170006</td>\n",
       "      <td>87.479996</td>\n",
       "      <td>281.487152</td>\n",
       "      <td>280.482117</td>\n",
       "      <td>279.543854</td>\n",
       "      <td>253.160004</td>\n",
       "      <td>0.229996</td>\n",
       "    </tr>\n",
       "    <tr>\n",
       "      <th>1</th>\n",
       "      <td>9</td>\n",
       "      <td>природный пожар</td>\n",
       "      <td>58.526449</td>\n",
       "      <td>61.877918</td>\n",
       "      <td>64.170006</td>\n",
       "      <td>94.029999</td>\n",
       "      <td>281.487152</td>\n",
       "      <td>280.482117</td>\n",
       "      <td>279.543854</td>\n",
       "      <td>253.479996</td>\n",
       "      <td>-0.809998</td>\n",
       "    </tr>\n",
       "    <tr>\n",
       "      <th>2</th>\n",
       "      <td>3</td>\n",
       "      <td>горение мусора</td>\n",
       "      <td>58.526449</td>\n",
       "      <td>61.877918</td>\n",
       "      <td>64.170006</td>\n",
       "      <td>99.130005</td>\n",
       "      <td>281.487152</td>\n",
       "      <td>280.482117</td>\n",
       "      <td>279.543854</td>\n",
       "      <td>249.009995</td>\n",
       "      <td>1.490005</td>\n",
       "    </tr>\n",
       "    <tr>\n",
       "      <th>3</th>\n",
       "      <td>4</td>\n",
       "      <td>сжигание порубочных остатков</td>\n",
       "      <td>58.526449</td>\n",
       "      <td>61.877918</td>\n",
       "      <td>64.170006</td>\n",
       "      <td>89.630005</td>\n",
       "      <td>281.487152</td>\n",
       "      <td>280.482117</td>\n",
       "      <td>279.543854</td>\n",
       "      <td>255.229996</td>\n",
       "      <td>1.770004</td>\n",
       "    </tr>\n",
       "    <tr>\n",
       "      <th>4</th>\n",
       "      <td>4</td>\n",
       "      <td>сжигание порубочных остатков</td>\n",
       "      <td>58.526449</td>\n",
       "      <td>61.877918</td>\n",
       "      <td>64.170006</td>\n",
       "      <td>92.300003</td>\n",
       "      <td>281.487152</td>\n",
       "      <td>280.482117</td>\n",
       "      <td>279.543854</td>\n",
       "      <td>256.910004</td>\n",
       "      <td>0.690002</td>\n",
       "    </tr>\n",
       "  </tbody>\n",
       "</table>\n",
       "</div>"
      ],
      "text/plain": [
       "   fire_type                fire_type_name        h1w        h2w        h3w  \\\n",
       "0          3                горение мусора  58.526449  61.877918  64.170006   \n",
       "1          9               природный пожар  58.526449  61.877918  64.170006   \n",
       "2          3                горение мусора  58.526449  61.877918  64.170006   \n",
       "3          4  сжигание порубочных остатков  58.526449  61.877918  64.170006   \n",
       "4          4  сжигание порубочных остатков  58.526449  61.877918  64.170006   \n",
       "\n",
       "    humidity         t1w         t2w         t3w  temperature     uwind  \n",
       "0  87.479996  281.487152  280.482117  279.543854   253.160004  0.229996  \n",
       "1  94.029999  281.487152  280.482117  279.543854   253.479996 -0.809998  \n",
       "2  99.130005  281.487152  280.482117  279.543854   249.009995  1.490005  \n",
       "3  89.630005  281.487152  280.482117  279.543854   255.229996  1.770004  \n",
       "4  92.300003  281.487152  280.482117  279.543854   256.910004  0.690002  "
      ]
     },
     "execution_count": 16,
     "metadata": {},
     "output_type": "execute_result"
    }
   ],
   "source": [
    "df_features.head(5)"
   ]
  },
  {
   "cell_type": "code",
   "execution_count": 17,
   "metadata": {},
   "outputs": [
    {
     "data": {
      "text/plain": [
       "array([ 3,  9,  4,  5, 11,  2,  1, 10,  6,  8])"
      ]
     },
     "execution_count": 17,
     "metadata": {},
     "output_type": "execute_result"
    }
   ],
   "source": [
    "df_features['fire_type'].unique()"
   ]
  },
  {
   "cell_type": "code",
   "execution_count": 19,
   "metadata": {},
   "outputs": [
    {
     "data": {
      "text/plain": [
       "fire_type\n",
       "1      276\n",
       "2       76\n",
       "3      867\n",
       "4     1588\n",
       "5      300\n",
       "6     4744\n",
       "8     1994\n",
       "9     5047\n",
       "10    5212\n",
       "11    2716\n",
       "dtype: int64"
      ]
     },
     "execution_count": 19,
     "metadata": {},
     "output_type": "execute_result"
    }
   ],
   "source": [
    "df_features.groupby('fire_type').size()"
   ]
  },
  {
   "cell_type": "markdown",
   "metadata": {},
   "source": [
    "### К сожалению из-за того не получилось взять все данные, один класс \"7\" пропал. Так как все данные по типу пожара \"7\" были до 2018 года\n",
    "<p> Также из предыдущих вычислений мы видим, что классы несбалансированны</p>"
   ]
  },
  {
   "cell_type": "code",
   "execution_count": 20,
   "metadata": {},
   "outputs": [
    {
     "data": {
      "image/png": "[encoded data removed]",
      "text/plain": [
       "<Figure size 864x360 with 1 Axes>"
      ]
     },
     "metadata": {
      "needs_background": "light"
     },
     "output_type": "display_data"
    }
   ],
   "source": [
    "plt.figure(figsize=(12,5))\n",
    "plt.title(\"Распределение целевой переменной fire_type\")\n",
    "ax = sns.distplot(df_features[\"fire_type\"])"
   ]
  },
  {
   "cell_type": "code",
   "execution_count": 93,
   "metadata": {},
   "outputs": [],
   "source": [
    "df_features_new = df_features.copy()\n",
    "df_features_new = df_features_new.drop(columns='fire_type_name')"
   ]
  },
  {
   "cell_type": "code",
   "execution_count": 94,
   "metadata": {},
   "outputs": [
    {
     "data": {
      "image/png": "[encoded data removed]",
      "text/plain": [
       "<Figure size 1368x1080 with 2 Axes>"
      ]
     },
     "metadata": {
      "needs_background": "light"
     },
     "output_type": "display_data"
    }
   ],
   "source": [
    "f = plt.figure(figsize=(19, 15))\n",
    "corr = df_features_new.corr()\n",
    "plt.matshow(corr, fignum=f.number)\n",
    "plt.xticks(range(df_features_new.shape[1]), df_features_new.columns, fontsize=14, rotation=45)\n",
    "plt.yticks(range(df_features_new.shape[1]), df_features_new.columns, fontsize=14)\n",
    "cb = plt.colorbar()\n",
    "cb.ax.tick_params(labelsize=14)\n",
    "plt.title('Correlation Matrix', fontsize=16);"
   ]
  },
  {
   "cell_type": "code",
   "execution_count": 95,
   "metadata": {},
   "outputs": [
    {
     "data": {
      "text/html": [
       "<div>\n",
       "<style scoped>\n",
       "    .dataframe tbody tr th:only-of-type {\n",
       "        vertical-align: middle;\n",
       "    }\n",
       "\n",
       "    .dataframe tbody tr th {\n",
       "        vertical-align: top;\n",
       "    }\n",
       "\n",
       "    .dataframe thead th {\n",
       "        text-align: right;\n",
       "    }\n",
       "</style>\n",
       "<table border=\"1\" class=\"dataframe\">\n",
       "  <thead>\n",
       "    <tr style=\"text-align: right;\">\n",
       "      <th></th>\n",
       "      <th>fire_type</th>\n",
       "      <th>h1w</th>\n",
       "      <th>h2w</th>\n",
       "      <th>h3w</th>\n",
       "      <th>humidity</th>\n",
       "      <th>t1w</th>\n",
       "      <th>t2w</th>\n",
       "      <th>t3w</th>\n",
       "      <th>temperature</th>\n",
       "      <th>uwind</th>\n",
       "    </tr>\n",
       "  </thead>\n",
       "  <tbody>\n",
       "    <tr>\n",
       "      <th>fire_type</th>\n",
       "      <td>1.000000</td>\n",
       "      <td>-0.162350</td>\n",
       "      <td>-0.127990</td>\n",
       "      <td>-0.099373</td>\n",
       "      <td>-0.147559</td>\n",
       "      <td>0.180915</td>\n",
       "      <td>0.144525</td>\n",
       "      <td>0.106902</td>\n",
       "      <td>0.186752</td>\n",
       "      <td>-0.059322</td>\n",
       "    </tr>\n",
       "    <tr>\n",
       "      <th>h1w</th>\n",
       "      <td>-0.162350</td>\n",
       "      <td>1.000000</td>\n",
       "      <td>0.903487</td>\n",
       "      <td>0.835405</td>\n",
       "      <td>0.800387</td>\n",
       "      <td>-0.464036</td>\n",
       "      <td>-0.448013</td>\n",
       "      <td>-0.395083</td>\n",
       "      <td>-0.427055</td>\n",
       "      <td>0.090507</td>\n",
       "    </tr>\n",
       "    <tr>\n",
       "      <th>h2w</th>\n",
       "      <td>-0.127990</td>\n",
       "      <td>0.903487</td>\n",
       "      <td>1.000000</td>\n",
       "      <td>0.960677</td>\n",
       "      <td>0.685195</td>\n",
       "      <td>-0.529347</td>\n",
       "      <td>-0.535171</td>\n",
       "      <td>-0.512676</td>\n",
       "      <td>-0.494578</td>\n",
       "      <td>0.081013</td>\n",
       "    </tr>\n",
       "    <tr>\n",
       "      <th>h3w</th>\n",
       "      <td>-0.099373</td>\n",
       "      <td>0.835405</td>\n",
       "      <td>0.960677</td>\n",
       "      <td>1.000000</td>\n",
       "      <td>0.628182</td>\n",
       "      <td>-0.559436</td>\n",
       "      <td>-0.573497</td>\n",
       "      <td>-0.573604</td>\n",
       "      <td>-0.525253</td>\n",
       "      <td>0.094466</td>\n",
       "    </tr>\n",
       "    <tr>\n",
       "      <th>humidity</th>\n",
       "      <td>-0.147559</td>\n",
       "      <td>0.800387</td>\n",
       "      <td>0.685195</td>\n",
       "      <td>0.628182</td>\n",
       "      <td>1.000000</td>\n",
       "      <td>-0.349867</td>\n",
       "      <td>-0.313407</td>\n",
       "      <td>-0.253606</td>\n",
       "      <td>-0.317260</td>\n",
       "      <td>0.060488</td>\n",
       "    </tr>\n",
       "    <tr>\n",
       "      <th>t1w</th>\n",
       "      <td>0.180915</td>\n",
       "      <td>-0.464036</td>\n",
       "      <td>-0.529347</td>\n",
       "      <td>-0.559436</td>\n",
       "      <td>-0.349867</td>\n",
       "      <td>1.000000</td>\n",
       "      <td>0.969329</td>\n",
       "      <td>0.927232</td>\n",
       "      <td>0.929663</td>\n",
       "      <td>-0.264802</td>\n",
       "    </tr>\n",
       "    <tr>\n",
       "      <th>t2w</th>\n",
       "      <td>0.144525</td>\n",
       "      <td>-0.448013</td>\n",
       "      <td>-0.535171</td>\n",
       "      <td>-0.573497</td>\n",
       "      <td>-0.313407</td>\n",
       "      <td>0.969329</td>\n",
       "      <td>1.000000</td>\n",
       "      <td>0.978627</td>\n",
       "      <td>0.885960</td>\n",
       "      <td>-0.274093</td>\n",
       "    </tr>\n",
       "    <tr>\n",
       "      <th>t3w</th>\n",
       "      <td>0.106902</td>\n",
       "      <td>-0.395083</td>\n",
       "      <td>-0.512676</td>\n",
       "      <td>-0.573604</td>\n",
       "      <td>-0.253606</td>\n",
       "      <td>0.927232</td>\n",
       "      <td>0.978627</td>\n",
       "      <td>1.000000</td>\n",
       "      <td>0.842387</td>\n",
       "      <td>-0.275100</td>\n",
       "    </tr>\n",
       "    <tr>\n",
       "      <th>temperature</th>\n",
       "      <td>0.186752</td>\n",
       "      <td>-0.427055</td>\n",
       "      <td>-0.494578</td>\n",
       "      <td>-0.525253</td>\n",
       "      <td>-0.317260</td>\n",
       "      <td>0.929663</td>\n",
       "      <td>0.885960</td>\n",
       "      <td>0.842387</td>\n",
       "      <td>1.000000</td>\n",
       "      <td>-0.220748</td>\n",
       "    </tr>\n",
       "    <tr>\n",
       "      <th>uwind</th>\n",
       "      <td>-0.059322</td>\n",
       "      <td>0.090507</td>\n",
       "      <td>0.081013</td>\n",
       "      <td>0.094466</td>\n",
       "      <td>0.060488</td>\n",
       "      <td>-0.264802</td>\n",
       "      <td>-0.274093</td>\n",
       "      <td>-0.275100</td>\n",
       "      <td>-0.220748</td>\n",
       "      <td>1.000000</td>\n",
       "    </tr>\n",
       "  </tbody>\n",
       "</table>\n",
       "</div>"
      ],
      "text/plain": [
       "             fire_type       h1w       h2w       h3w  humidity       t1w  \\\n",
       "fire_type     1.000000 -0.162350 -0.127990 -0.099373 -0.147559  0.180915   \n",
       "h1w          -0.162350  1.000000  0.903487  0.835405  0.800387 -0.464036   \n",
       "h2w          -0.127990  0.903487  1.000000  0.960677  0.685195 -0.529347   \n",
       "h3w          -0.099373  0.835405  0.960677  1.000000  0.628182 -0.559436   \n",
       "humidity     -0.147559  0.800387  0.685195  0.628182  1.000000 -0.349867   \n",
       "t1w           0.180915 -0.464036 -0.529347 -0.559436 -0.349867  1.000000   \n",
       "t2w           0.144525 -0.448013 -0.535171 -0.573497 -0.313407  0.969329   \n",
       "t3w           0.106902 -0.395083 -0.512676 -0.573604 -0.253606  0.927232   \n",
       "temperature   0.186752 -0.427055 -0.494578 -0.525253 -0.317260  0.929663   \n",
       "uwind        -0.059322  0.090507  0.081013  0.094466  0.060488 -0.264802   \n",
       "\n",
       "                  t2w       t3w  temperature     uwind  \n",
       "fire_type    0.144525  0.106902     0.186752 -0.059322  \n",
       "h1w         -0.448013 -0.395083    -0.427055  0.090507  \n",
       "h2w         -0.535171 -0.512676    -0.494578  0.081013  \n",
       "h3w         -0.573497 -0.573604    -0.525253  0.094466  \n",
       "humidity    -0.313407 -0.253606    -0.317260  0.060488  \n",
       "t1w          0.969329  0.927232     0.929663 -0.264802  \n",
       "t2w          1.000000  0.978627     0.885960 -0.274093  \n",
       "t3w          0.978627  1.000000     0.842387 -0.275100  \n",
       "temperature  0.885960  0.842387     1.000000 -0.220748  \n",
       "uwind       -0.274093 -0.275100    -0.220748  1.000000  "
      ]
     },
     "execution_count": 95,
     "metadata": {},
     "output_type": "execute_result"
    }
   ],
   "source": [
    "corr"
   ]
  },
  {
   "cell_type": "markdown",
   "metadata": {},
   "source": [
    "<p> Из матрицы можно заметить, что существует несколько признаков, которые слабокоррелируют с целевой функцией.</p>"
   ]
  },
  {
   "cell_type": "markdown",
   "metadata": {},
   "source": [
    "<p> Делим на тестовую и тренировочную выборки и нормализуем данные, так как все данные у нас численные</p>"
   ]
  },
  {
   "cell_type": "code",
   "execution_count": 98,
   "metadata": {},
   "outputs": [],
   "source": [
    "X = df_features_new.iloc[:, 1:].fillna(0)\n",
    "y = df_features_new['fire_type']"
   ]
  },
  {
   "cell_type": "code",
   "execution_count": 101,
   "metadata": {},
   "outputs": [
    {
     "name": "stdout",
     "output_type": "stream",
     "text": [
      "15974 6846\n"
     ]
    }
   ],
   "source": [
    "X_train, X_test, y_train, y_test = train_test_split(X, y, test_size = 0.3, random_state = 42)\n",
    "N_train, _ = X_train.shape \n",
    "N_test,  _ = X_test.shape \n",
    "print(N_train, N_test)"
   ]
  },
  {
   "cell_type": "code",
   "execution_count": 103,
   "metadata": {},
   "outputs": [
    {
     "name": "stderr",
     "output_type": "stream",
     "text": [
      "/home/topus/anaconda3/lib/python3.7/site-packages/pandas/core/frame.py:5516: SettingWithCopyWarning: \n",
      "A value is trying to be set on a copy of a slice from a DataFrame.\n",
      "Try using .loc[row_indexer,col_indexer] = value instead\n",
      "\n",
      "See the caveats in the documentation: http://pandas.pydata.org/pandas-docs/stable/indexing.html#indexing-view-versus-copy\n",
      "  self[col] = expressions.where(mask, this, that)\n"
     ]
    },
    {
     "name": "stdout",
     "output_type": "stream",
     "text": [
      "            h1w       h2w       h3w  humidity       t1w       t2w       t3w  \\\n",
      "14126 -1.376053 -1.714298 -1.461760 -0.754131  2.007214  2.008775  1.834440   \n",
      "14442 -1.093350 -1.841258 -2.102201  0.843389  2.494371  2.571975  2.456044   \n",
      "15391 -0.680211 -0.604445 -0.784061  0.542097  1.025691  1.199949  1.162074   \n",
      "7473   0.491628  0.844322  0.953849 -0.193104 -0.359849 -0.324471 -0.467146   \n",
      "12559 -0.167110 -0.343673 -0.521744 -0.819522 -0.166044 -0.145970 -0.005761   \n",
      "\n",
      "       temperature     uwind  \n",
      "14126     1.927308 -0.650778  \n",
      "14442     1.628198 -0.225970  \n",
      "15391     0.914771 -0.004595  \n",
      "7473      0.264756 -0.034508  \n",
      "12559    -0.855586  0.390299  \n"
     ]
    },
    {
     "name": "stderr",
     "output_type": "stream",
     "text": [
      "/home/topus/anaconda3/lib/python3.7/site-packages/pandas/core/frame.py:5516: SettingWithCopyWarning: \n",
      "A value is trying to be set on a copy of a slice from a DataFrame.\n",
      "Try using .loc[row_indexer,col_indexer] = value instead\n",
      "\n",
      "See the caveats in the documentation: http://pandas.pydata.org/pandas-docs/stable/indexing.html#indexing-view-versus-copy\n",
      "  self[col] = expressions.where(mask, this, that)\n"
     ]
    },
    {
     "name": "stdout",
     "output_type": "stream",
     "text": [
      "            h1w       h2w       h3w  humidity       t1w       t2w       t3w  \\\n",
      "12395 -0.301791 -0.012919  0.050156 -0.390502  0.357883  0.315550  0.284840   \n",
      "18549  1.667082  1.472218  0.980819  1.326189 -0.663217 -0.350845 -0.214699   \n",
      "4003   0.635304  0.528377  0.596136  0.537207 -0.110365 -0.519804 -0.560575   \n",
      "3184  -1.642833 -0.383104  0.164440 -1.675729 -0.678981 -0.600001 -0.863163   \n",
      "283   -0.926729 -1.214189 -0.779109 -0.589734 -1.770864 -1.768226 -1.727530   \n",
      "\n",
      "       temperature     uwind  \n",
      "12395     0.463460  0.566803  \n",
      "18549    -1.058518 -0.124257  \n",
      "4003      0.617774  0.548854  \n",
      "3184     -1.193805  1.350601  \n",
      "283      -1.634543  0.300550  \n"
     ]
    }
   ],
   "source": [
    "# нормализация\n",
    "train_norm = X_train[X_train.columns]\n",
    "test_norm = X_test[X_test.columns[0:10]]\n",
    "\n",
    "std_scale = preprocessing.StandardScaler().fit(train_norm)\n",
    "X_train_norm = std_scale.transform(train_norm)\n",
    "\n",
    "training_norm_col = pd.DataFrame(X_train_norm, index=train_norm.index, columns=train_norm.columns) \n",
    "X_train.update(training_norm_col)\n",
    "print (X_train.head())\n",
    "\n",
    "# Нормализуем тестовые данные используя mean и stdev тренировочных данных\n",
    "X_test_norm = std_scale.transform(test_norm)\n",
    "testing_norm_col = pd.DataFrame(X_test_norm, index=test_norm.index, columns=test_norm.columns) \n",
    "X_test.update(testing_norm_col)\n",
    "print (X_test.head())"
   ]
  },
  {
   "cell_type": "code",
   "execution_count": 110,
   "metadata": {},
   "outputs": [
    {
     "data": {
      "text/html": [
       "<div>\n",
       "<style scoped>\n",
       "    .dataframe tbody tr th:only-of-type {\n",
       "        vertical-align: middle;\n",
       "    }\n",
       "\n",
       "    .dataframe tbody tr th {\n",
       "        vertical-align: top;\n",
       "    }\n",
       "\n",
       "    .dataframe thead th {\n",
       "        text-align: right;\n",
       "    }\n",
       "</style>\n",
       "<table border=\"1\" class=\"dataframe\">\n",
       "  <thead>\n",
       "    <tr style=\"text-align: right;\">\n",
       "      <th></th>\n",
       "      <th>h1w</th>\n",
       "      <th>h2w</th>\n",
       "      <th>h3w</th>\n",
       "      <th>humidity</th>\n",
       "      <th>t1w</th>\n",
       "      <th>t2w</th>\n",
       "      <th>t3w</th>\n",
       "      <th>temperature</th>\n",
       "      <th>uwind</th>\n",
       "    </tr>\n",
       "  </thead>\n",
       "  <tbody>\n",
       "    <tr>\n",
       "      <th>count</th>\n",
       "      <td>1.597400e+04</td>\n",
       "      <td>1.597400e+04</td>\n",
       "      <td>1.597400e+04</td>\n",
       "      <td>1.597400e+04</td>\n",
       "      <td>1.597400e+04</td>\n",
       "      <td>1.597400e+04</td>\n",
       "      <td>1.597400e+04</td>\n",
       "      <td>1.597400e+04</td>\n",
       "      <td>1.597400e+04</td>\n",
       "    </tr>\n",
       "    <tr>\n",
       "      <th>mean</th>\n",
       "      <td>6.793114e-17</td>\n",
       "      <td>-9.580139e-17</td>\n",
       "      <td>9.120037e-17</td>\n",
       "      <td>6.397301e-17</td>\n",
       "      <td>-1.272427e-15</td>\n",
       "      <td>-2.458295e-15</td>\n",
       "      <td>2.476713e-15</td>\n",
       "      <td>-1.920031e-15</td>\n",
       "      <td>-5.004135e-18</td>\n",
       "    </tr>\n",
       "    <tr>\n",
       "      <th>std</th>\n",
       "      <td>1.000031e+00</td>\n",
       "      <td>1.000031e+00</td>\n",
       "      <td>1.000031e+00</td>\n",
       "      <td>1.000031e+00</td>\n",
       "      <td>1.000031e+00</td>\n",
       "      <td>1.000031e+00</td>\n",
       "      <td>1.000031e+00</td>\n",
       "      <td>1.000031e+00</td>\n",
       "      <td>1.000031e+00</td>\n",
       "    </tr>\n",
       "    <tr>\n",
       "      <th>min</th>\n",
       "      <td>-2.584168e+00</td>\n",
       "      <td>-2.836432e+00</td>\n",
       "      <td>-2.736538e+00</td>\n",
       "      <td>-2.381596e+00</td>\n",
       "      <td>-5.061634e+00</td>\n",
       "      <td>-4.818160e+00</td>\n",
       "      <td>-4.480435e+00</td>\n",
       "      <td>-5.094932e+00</td>\n",
       "      <td>-5.111260e+00</td>\n",
       "    </tr>\n",
       "    <tr>\n",
       "      <th>25%</th>\n",
       "      <td>-6.791704e-01</td>\n",
       "      <td>-6.816147e-01</td>\n",
       "      <td>-6.602050e-01</td>\n",
       "      <td>-7.241839e-01</td>\n",
       "      <td>-5.497101e-01</td>\n",
       "      <td>-5.834272e-01</td>\n",
       "      <td>-5.868172e-01</td>\n",
       "      <td>-5.329596e-01</td>\n",
       "      <td>-4.892331e-01</td>\n",
       "    </tr>\n",
       "    <tr>\n",
       "      <th>50%</th>\n",
       "      <td>1.083176e-02</td>\n",
       "      <td>2.843453e-02</td>\n",
       "      <td>7.023367e-02</td>\n",
       "      <td>-5.193129e-02</td>\n",
       "      <td>-2.019415e-02</td>\n",
       "      <td>-4.592054e-02</td>\n",
       "      <td>-6.603348e-02</td>\n",
       "      <td>1.532259e-02</td>\n",
       "      <td>8.515430e-02</td>\n",
       "    </tr>\n",
       "    <tr>\n",
       "      <th>75%</th>\n",
       "      <td>6.980462e-01</td>\n",
       "      <td>7.383159e-01</td>\n",
       "      <td>7.478182e-01</td>\n",
       "      <td>6.948814e-01</td>\n",
       "      <td>6.265498e-01</td>\n",
       "      <td>5.725373e-01</td>\n",
       "      <td>5.774467e-01</td>\n",
       "      <td>6.864702e-01</td>\n",
       "      <td>6.176594e-01</td>\n",
       "    </tr>\n",
       "    <tr>\n",
       "      <th>max</th>\n",
       "      <td>2.901247e+00</td>\n",
       "      <td>2.786791e+00</td>\n",
       "      <td>2.692579e+00</td>\n",
       "      <td>2.854038e+00</td>\n",
       "      <td>2.637424e+00</td>\n",
       "      <td>2.617563e+00</td>\n",
       "      <td>2.501689e+00</td>\n",
       "      <td>2.485366e+00</td>\n",
       "      <td>3.444724e+00</td>\n",
       "    </tr>\n",
       "  </tbody>\n",
       "</table>\n",
       "</div>"
      ],
      "text/plain": [
       "                h1w           h2w           h3w      humidity           t1w  \\\n",
       "count  1.597400e+04  1.597400e+04  1.597400e+04  1.597400e+04  1.597400e+04   \n",
       "mean   6.793114e-17 -9.580139e-17  9.120037e-17  6.397301e-17 -1.272427e-15   \n",
       "std    1.000031e+00  1.000031e+00  1.000031e+00  1.000031e+00  1.000031e+00   \n",
       "min   -2.584168e+00 -2.836432e+00 -2.736538e+00 -2.381596e+00 -5.061634e+00   \n",
       "25%   -6.791704e-01 -6.816147e-01 -6.602050e-01 -7.241839e-01 -5.497101e-01   \n",
       "50%    1.083176e-02  2.843453e-02  7.023367e-02 -5.193129e-02 -2.019415e-02   \n",
       "75%    6.980462e-01  7.383159e-01  7.478182e-01  6.948814e-01  6.265498e-01   \n",
       "max    2.901247e+00  2.786791e+00  2.692579e+00  2.854038e+00  2.637424e+00   \n",
       "\n",
       "                t2w           t3w   temperature         uwind  \n",
       "count  1.597400e+04  1.597400e+04  1.597400e+04  1.597400e+04  \n",
       "mean  -2.458295e-15  2.476713e-15 -1.920031e-15 -5.004135e-18  \n",
       "std    1.000031e+00  1.000031e+00  1.000031e+00  1.000031e+00  \n",
       "min   -4.818160e+00 -4.480435e+00 -5.094932e+00 -5.111260e+00  \n",
       "25%   -5.834272e-01 -5.868172e-01 -5.329596e-01 -4.892331e-01  \n",
       "50%   -4.592054e-02 -6.603348e-02  1.532259e-02  8.515430e-02  \n",
       "75%    5.725373e-01  5.774467e-01  6.864702e-01  6.176594e-01  \n",
       "max    2.617563e+00  2.501689e+00  2.485366e+00  3.444724e+00  "
      ]
     },
     "execution_count": 110,
     "metadata": {},
     "output_type": "execute_result"
    }
   ],
   "source": [
    "X_train.describe()"
   ]
  },
  {
   "cell_type": "code",
   "execution_count": 112,
   "metadata": {},
   "outputs": [
    {
     "data": {
      "text/html": [
       "<div>\n",
       "<style scoped>\n",
       "    .dataframe tbody tr th:only-of-type {\n",
       "        vertical-align: middle;\n",
       "    }\n",
       "\n",
       "    .dataframe tbody tr th {\n",
       "        vertical-align: top;\n",
       "    }\n",
       "\n",
       "    .dataframe thead th {\n",
       "        text-align: right;\n",
       "    }\n",
       "</style>\n",
       "<table border=\"1\" class=\"dataframe\">\n",
       "  <thead>\n",
       "    <tr style=\"text-align: right;\">\n",
       "      <th></th>\n",
       "      <th>h1w</th>\n",
       "      <th>h2w</th>\n",
       "      <th>h3w</th>\n",
       "      <th>humidity</th>\n",
       "      <th>t1w</th>\n",
       "      <th>t2w</th>\n",
       "      <th>t3w</th>\n",
       "      <th>temperature</th>\n",
       "      <th>uwind</th>\n",
       "    </tr>\n",
       "  </thead>\n",
       "  <tbody>\n",
       "    <tr>\n",
       "      <th>14126</th>\n",
       "      <td>-1.376053</td>\n",
       "      <td>-1.714298</td>\n",
       "      <td>-1.461760</td>\n",
       "      <td>-0.754131</td>\n",
       "      <td>2.007214</td>\n",
       "      <td>2.008775</td>\n",
       "      <td>1.834440</td>\n",
       "      <td>1.927308</td>\n",
       "      <td>-0.650778</td>\n",
       "    </tr>\n",
       "    <tr>\n",
       "      <th>14442</th>\n",
       "      <td>-1.093350</td>\n",
       "      <td>-1.841258</td>\n",
       "      <td>-2.102201</td>\n",
       "      <td>0.843389</td>\n",
       "      <td>2.494371</td>\n",
       "      <td>2.571975</td>\n",
       "      <td>2.456044</td>\n",
       "      <td>1.628198</td>\n",
       "      <td>-0.225970</td>\n",
       "    </tr>\n",
       "    <tr>\n",
       "      <th>15391</th>\n",
       "      <td>-0.680211</td>\n",
       "      <td>-0.604445</td>\n",
       "      <td>-0.784061</td>\n",
       "      <td>0.542097</td>\n",
       "      <td>1.025691</td>\n",
       "      <td>1.199949</td>\n",
       "      <td>1.162074</td>\n",
       "      <td>0.914771</td>\n",
       "      <td>-0.004595</td>\n",
       "    </tr>\n",
       "    <tr>\n",
       "      <th>7473</th>\n",
       "      <td>0.491628</td>\n",
       "      <td>0.844322</td>\n",
       "      <td>0.953849</td>\n",
       "      <td>-0.193104</td>\n",
       "      <td>-0.359849</td>\n",
       "      <td>-0.324471</td>\n",
       "      <td>-0.467146</td>\n",
       "      <td>0.264756</td>\n",
       "      <td>-0.034508</td>\n",
       "    </tr>\n",
       "    <tr>\n",
       "      <th>12559</th>\n",
       "      <td>-0.167110</td>\n",
       "      <td>-0.343673</td>\n",
       "      <td>-0.521744</td>\n",
       "      <td>-0.819522</td>\n",
       "      <td>-0.166044</td>\n",
       "      <td>-0.145970</td>\n",
       "      <td>-0.005761</td>\n",
       "      <td>-0.855586</td>\n",
       "      <td>0.390299</td>\n",
       "    </tr>\n",
       "  </tbody>\n",
       "</table>\n",
       "</div>"
      ],
      "text/plain": [
       "            h1w       h2w       h3w  humidity       t1w       t2w       t3w  \\\n",
       "14126 -1.376053 -1.714298 -1.461760 -0.754131  2.007214  2.008775  1.834440   \n",
       "14442 -1.093350 -1.841258 -2.102201  0.843389  2.494371  2.571975  2.456044   \n",
       "15391 -0.680211 -0.604445 -0.784061  0.542097  1.025691  1.199949  1.162074   \n",
       "7473   0.491628  0.844322  0.953849 -0.193104 -0.359849 -0.324471 -0.467146   \n",
       "12559 -0.167110 -0.343673 -0.521744 -0.819522 -0.166044 -0.145970 -0.005761   \n",
       "\n",
       "       temperature     uwind  \n",
       "14126     1.927308 -0.650778  \n",
       "14442     1.628198 -0.225970  \n",
       "15391     0.914771 -0.004595  \n",
       "7473      0.264756 -0.034508  \n",
       "12559    -0.855586  0.390299  "
      ]
     },
     "execution_count": 112,
     "metadata": {},
     "output_type": "execute_result"
    }
   ],
   "source": [
    "X_train.head(5)"
   ]
  },
  {
   "cell_type": "code",
   "execution_count": 153,
   "metadata": {},
   "outputs": [
    {
     "name": "stdout",
     "output_type": "stream",
     "text": [
      "0.39858520095154626 20\n",
      "CPU times: user 1min, sys: 200 ms, total: 1min\n",
      "Wall time: 51 s\n"
     ]
    }
   ],
   "source": [
    "%%time\n",
    "nnb = [1, 3, 5, 10, 15, 20, 25, 35, 45, 55]\n",
    "knn = KNeighborsClassifier(weights='distance')\n",
    "grid = GridSearchCV(knn, param_grid = {'n_neighbors': nnb}, cv=10)\n",
    "grid.fit(X_train, y_train)\n",
    "\n",
    "best_cv_err = 1 - grid.best_score_\n",
    "best_n_neighbors = grid.best_estimator_.n_neighbors\n",
    "print(best_cv_err, best_n_neighbors)"
   ]
  },
  {
   "cell_type": "code",
   "execution_count": 154,
   "metadata": {},
   "outputs": [
    {
     "name": "stdout",
     "output_type": "stream",
     "text": [
      "0.16983848754225617 0.39000876424189307\n",
      "0.6099912357581069 accuracy\n"
     ]
    }
   ],
   "source": [
    "knn_20 = KNeighborsClassifier(n_neighbors = 20, weights='distance').fit(X_train, y_train)\n",
    "err_train = np.mean(y_train != knn_20.predict(X_train))\n",
    "err_test  = np.mean(y_test  != knn_20.predict(X_test))\n",
    "Accuracy = knn_20.score(X_test, y_test)\n",
    "print(err_train, err_test)\n",
    "print(Accuracy, 'accuracy')"
   ]
  },
  {
   "cell_type": "markdown",
   "metadata": {},
   "source": [
    "### Градиентный бустинг\n",
    "<p>Результат вышел хуже, чем в knn с оптимально подобранным количеством соседей.</p>"
   ]
  },
  {
   "cell_type": "code",
   "execution_count": 138,
   "metadata": {},
   "outputs": [],
   "source": [
    "fire_classifier = GradientBoostingClassifier(learning_rate=0.001, n_estimators=300)"
   ]
  },
  {
   "cell_type": "code",
   "execution_count": 139,
   "metadata": {},
   "outputs": [
    {
     "data": {
      "text/plain": [
       "GradientBoostingClassifier(criterion='friedman_mse', init=None,\n",
       "              learning_rate=0.001, loss='deviance', max_depth=3,\n",
       "              max_features=None, max_leaf_nodes=None,\n",
       "              min_impurity_decrease=0.0, min_impurity_split=None,\n",
       "              min_samples_leaf=1, min_samples_split=2,\n",
       "              min_weight_fraction_leaf=0.0, n_estimators=300,\n",
       "              n_iter_no_change=None, presort='auto', random_state=None,\n",
       "              subsample=1.0, tol=0.0001, validation_fraction=0.1,\n",
       "              verbose=0, warm_start=False)"
      ]
     },
     "execution_count": 139,
     "metadata": {},
     "output_type": "execute_result"
    }
   ],
   "source": [
    "fire_classifier.fit(X_train, y_train)"
   ]
  },
  {
   "cell_type": "code",
   "execution_count": 140,
   "metadata": {},
   "outputs": [],
   "source": [
    "acc_boosting = fire_classifier.score(X_test, y_test)"
   ]
  },
  {
   "cell_type": "code",
   "execution_count": 141,
   "metadata": {},
   "outputs": [],
   "source": [
    "y_test_predict = fire_classifier.predict(X_test)\n",
    "err_train = np.mean(y_train != fire_classifier.predict(X_train))\n",
    "err_test = np.mean(y_test != y_test_predict)"
   ]
  },
  {
   "cell_type": "code",
   "execution_count": 142,
   "metadata": {},
   "outputs": [
    {
     "name": "stdout",
     "output_type": "stream",
     "text": [
      "accuracy 0.3678060181127666\n",
      "0.6090522098409916 0.6321939818872334\n"
     ]
    }
   ],
   "source": [
    "print('accuracy', acc_boosting)\n",
    "print(err_train, err_test)"
   ]
  },
  {
   "cell_type": "markdown",
   "metadata": {},
   "source": [
    "### Попытка улучшить baseline решение на основе feature selection с деревьями решений"
   ]
  },
  {
   "cell_type": "code",
   "execution_count": 145,
   "metadata": {},
   "outputs": [
    {
     "name": "stderr",
     "output_type": "stream",
     "text": [
      "/home/topus/anaconda3/lib/python3.7/site-packages/sklearn/ensemble/forest.py:246: FutureWarning: The default value of n_estimators will change from 10 in version 0.20 to 100 in 0.22.\n",
      "  \"10 in version 0.20 to 100 in 0.22.\", FutureWarning)\n"
     ]
    },
    {
     "data": {
      "text/plain": [
       "(22820, 4)"
      ]
     },
     "execution_count": 145,
     "metadata": {},
     "output_type": "execute_result"
    }
   ],
   "source": [
    "clf = ExtraTreesClassifier()\n",
    "clf = clf.fit(X, y)\n",
    "model = SelectFromModel(clf, prefit=True)\n",
    "New_features = model.transform(X)\n",
    "model.get_support()\n",
    "New_features.shape"
   ]
  },
  {
   "cell_type": "code",
   "execution_count": 149,
   "metadata": {},
   "outputs": [],
   "source": [
    "from sklearn.tree import DecisionTreeClassifier\n",
    "from sklearn.ensemble import RandomForestClassifier\n",
    "from sklearn.linear_model import LogisticRegression\n",
    "Classifiers = [DecisionTreeClassifier(),LogisticRegression(C=0.000000001,solver='liblinear',max_iter=200),RandomForestClassifier(n_estimators=200)]\n",
    "X_train_sel, X_test_sel, y_train_sel, y_test_sel = train_test_split(pd.DataFrame(New_features), y , test_size = 0.3, random_state =  92)"
   ]
  },
  {
   "cell_type": "code",
   "execution_count": 150,
   "metadata": {},
   "outputs": [
    {
     "name": "stdout",
     "output_type": "stream",
     "text": [
      "0.3923250281707775 55\n",
      "CPU times: user 24.6 s, sys: 164 ms, total: 24.8 s\n",
      "Wall time: 16.5 s\n"
     ]
    }
   ],
   "source": [
    "%%time\n",
    "nnb = [1, 3, 5, 10, 15, 20, 25, 35, 45, 55]\n",
    "knn = KNeighborsClassifier(weights='distance')\n",
    "grid = GridSearchCV(knn, param_grid = {'n_neighbors': nnb}, cv=10)\n",
    "grid.fit(X_train_sel, y_train_sel)\n",
    "\n",
    "best_cv_err = 1 - grid.best_score_\n",
    "best_n_neighbors = grid.best_estimator_.n_neighbors\n",
    "print(best_cv_err, best_n_neighbors)"
   ]
  },
  {
   "cell_type": "code",
   "execution_count": 152,
   "metadata": {},
   "outputs": [
    {
     "name": "stdout",
     "output_type": "stream",
     "text": [
      "0.1691498685363716 0.3986269354367514\n",
      "0.6013730645632486 accuracy\n"
     ]
    }
   ],
   "source": [
    "knn_20 = KNeighborsClassifier(n_neighbors = 20, weights='distance').fit(X_train_sel, y_train_sel)\n",
    "err_train = np.mean(y_train_sel != knn_20.predict(X_train_sel))\n",
    "err_test  = np.mean(y_test_sel  != knn_20.predict(X_test_sel))\n",
    "Accuracy = knn_20.score(X_test_sel, y_test_sel)\n",
    "print(err_train, err_test)\n",
    "print(Accuracy, 'accuracy')"
   ]
  },
  {
   "cell_type": "markdown",
   "metadata": {},
   "source": [
    "<p> К сожалению не было получено никаких улучшений</p>"
   ]
  },
  {
   "cell_type": "code",
   "execution_count": 155,
   "metadata": {},
   "outputs": [
    {
     "data": {
      "text/plain": [
       "fire_type\n",
       "1      276\n",
       "2       76\n",
       "3      867\n",
       "4     1588\n",
       "5      300\n",
       "6     4744\n",
       "8     1994\n",
       "9     5047\n",
       "10    5212\n",
       "11    2716\n",
       "dtype: int64"
      ]
     },
     "execution_count": 155,
     "metadata": {},
     "output_type": "execute_result"
    }
   ],
   "source": [
    "# пытаемся сбалансировать классы\n",
    "df_features.groupby('fire_type').size()"
   ]
  },
  {
   "cell_type": "code",
   "execution_count": 158,
   "metadata": {},
   "outputs": [],
   "source": [
    "df_major = df_features_new[df_features_new.fire_type==10]\n",
    "df_minor_1 = df_features_new[df_features_new.fire_type==1]\n",
    "df_minor_2 = df_features_new[df_features_new.fire_type==2]\n",
    "df_minor_3 = df_features_new[df_features_new.fire_type==3]\n",
    "df_minor_4 = df_features_new[df_features_new.fire_type==4]\n",
    "df_minor_5 = df_features_new[df_features_new.fire_type==5]\n",
    "df_minor_6 = df_features_new[df_features_new.fire_type==8]\n",
    "df_minor_7 = df_features_new[df_features_new.fire_type==11]"
   ]
  },
  {
   "cell_type": "code",
   "execution_count": 160,
   "metadata": {},
   "outputs": [],
   "source": [
    "df_minor_1 = resample(df_minor_1, replace=True, n_samples=5212, random_state=123)\n",
    "df_minor_2 = resample(df_minor_2, replace=True, n_samples=5212, random_state=123)\n",
    "df_minor_3 = resample(df_minor_3, replace=True, n_samples=5212, random_state=123)\n",
    "df_minor_4 = resample(df_minor_4, replace=True, n_samples=5212, random_state=123)\n",
    "df_minor_5 = resample(df_minor_5, replace=True, n_samples=5212, random_state=123)\n",
    "df_minor_6 = resample(df_minor_6, replace=True, n_samples=5212, random_state=123)\n",
    "df_minor_7 = resample(df_minor_7, replace=True, n_samples=5212, random_state=123)"
   ]
  },
  {
   "cell_type": "code",
   "execution_count": 161,
   "metadata": {},
   "outputs": [],
   "source": [
    "df_balanced = pd.concat([df_major, df_minor_1, df_minor_2, df_minor_3, df_minor_4, df_minor_5, df_minor_6, df_minor_7])"
   ]
  },
  {
   "cell_type": "code",
   "execution_count": 163,
   "metadata": {},
   "outputs": [
    {
     "data": {
      "text/html": [
       "<div>\n",
       "<style scoped>\n",
       "    .dataframe tbody tr th:only-of-type {\n",
       "        vertical-align: middle;\n",
       "    }\n",
       "\n",
       "    .dataframe tbody tr th {\n",
       "        vertical-align: top;\n",
       "    }\n",
       "\n",
       "    .dataframe thead th {\n",
       "        text-align: right;\n",
       "    }\n",
       "</style>\n",
       "<table border=\"1\" class=\"dataframe\">\n",
       "  <thead>\n",
       "    <tr style=\"text-align: right;\">\n",
       "      <th></th>\n",
       "      <th>fire_type</th>\n",
       "      <th>h1w</th>\n",
       "      <th>h2w</th>\n",
       "      <th>h3w</th>\n",
       "      <th>humidity</th>\n",
       "      <th>t1w</th>\n",
       "      <th>t2w</th>\n",
       "      <th>t3w</th>\n",
       "      <th>temperature</th>\n",
       "      <th>uwind</th>\n",
       "    </tr>\n",
       "  </thead>\n",
       "  <tbody>\n",
       "    <tr>\n",
       "      <th>41</th>\n",
       "      <td>10</td>\n",
       "      <td>91.828568</td>\n",
       "      <td>61.877918</td>\n",
       "      <td>64.170006</td>\n",
       "      <td>81.709991</td>\n",
       "      <td>258.207184</td>\n",
       "      <td>280.482117</td>\n",
       "      <td>279.543854</td>\n",
       "      <td>258.330017</td>\n",
       "      <td>4.709991</td>\n",
       "    </tr>\n",
       "    <tr>\n",
       "      <th>44</th>\n",
       "      <td>10</td>\n",
       "      <td>92.690010</td>\n",
       "      <td>61.877918</td>\n",
       "      <td>64.170006</td>\n",
       "      <td>82.360001</td>\n",
       "      <td>260.480042</td>\n",
       "      <td>280.482117</td>\n",
       "      <td>279.543854</td>\n",
       "      <td>257.950012</td>\n",
       "      <td>6.339996</td>\n",
       "    </tr>\n",
       "    <tr>\n",
       "      <th>50</th>\n",
       "      <td>10</td>\n",
       "      <td>96.052849</td>\n",
       "      <td>95.645004</td>\n",
       "      <td>64.170006</td>\n",
       "      <td>93.110001</td>\n",
       "      <td>246.972870</td>\n",
       "      <td>250.001465</td>\n",
       "      <td>279.543854</td>\n",
       "      <td>250.309998</td>\n",
       "      <td>0.229996</td>\n",
       "    </tr>\n",
       "    <tr>\n",
       "      <th>54</th>\n",
       "      <td>10</td>\n",
       "      <td>93.772865</td>\n",
       "      <td>93.301437</td>\n",
       "      <td>64.170006</td>\n",
       "      <td>98.259995</td>\n",
       "      <td>254.678604</td>\n",
       "      <td>254.908600</td>\n",
       "      <td>279.543854</td>\n",
       "      <td>243.360001</td>\n",
       "      <td>1.429993</td>\n",
       "    </tr>\n",
       "    <tr>\n",
       "      <th>58</th>\n",
       "      <td>10</td>\n",
       "      <td>88.314293</td>\n",
       "      <td>88.650711</td>\n",
       "      <td>64.170006</td>\n",
       "      <td>96.809998</td>\n",
       "      <td>244.970001</td>\n",
       "      <td>251.777161</td>\n",
       "      <td>279.543854</td>\n",
       "      <td>241.580002</td>\n",
       "      <td>-1.720001</td>\n",
       "    </tr>\n",
       "  </tbody>\n",
       "</table>\n",
       "</div>"
      ],
      "text/plain": [
       "    fire_type        h1w        h2w        h3w   humidity         t1w  \\\n",
       "41         10  91.828568  61.877918  64.170006  81.709991  258.207184   \n",
       "44         10  92.690010  61.877918  64.170006  82.360001  260.480042   \n",
       "50         10  96.052849  95.645004  64.170006  93.110001  246.972870   \n",
       "54         10  93.772865  93.301437  64.170006  98.259995  254.678604   \n",
       "58         10  88.314293  88.650711  64.170006  96.809998  244.970001   \n",
       "\n",
       "           t2w         t3w  temperature     uwind  \n",
       "41  280.482117  279.543854   258.330017  4.709991  \n",
       "44  280.482117  279.543854   257.950012  6.339996  \n",
       "50  250.001465  279.543854   250.309998  0.229996  \n",
       "54  254.908600  279.543854   243.360001  1.429993  \n",
       "58  251.777161  279.543854   241.580002 -1.720001  "
      ]
     },
     "execution_count": 163,
     "metadata": {},
     "output_type": "execute_result"
    }
   ],
   "source": [
    "df_balanced.head(5)"
   ]
  },
  {
   "cell_type": "code",
   "execution_count": 164,
   "metadata": {},
   "outputs": [],
   "source": [
    "X_bal = df_balanced.iloc[:, 1:].fillna(0)\n",
    "y_bal = df_balanced['fire_type']"
   ]
  },
  {
   "cell_type": "code",
   "execution_count": 174,
   "metadata": {},
   "outputs": [
    {
     "data": {
      "text/plain": [
       "41       10\n",
       "44       10\n",
       "50       10\n",
       "54       10\n",
       "58       10\n",
       "59       10\n",
       "62       10\n",
       "71       10\n",
       "72       10\n",
       "101      10\n",
       "107      10\n",
       "119      10\n",
       "142      10\n",
       "161      10\n",
       "178      10\n",
       "181      10\n",
       "186      10\n",
       "194      10\n",
       "220      10\n",
       "230      10\n",
       "236      10\n",
       "239      10\n",
       "252      10\n",
       "276      10\n",
       "279      10\n",
       "282      10\n",
       "290      10\n",
       "291      10\n",
       "292      10\n",
       "295      10\n",
       "         ..\n",
       "15265    11\n",
       "5153     11\n",
       "6334     11\n",
       "6110     11\n",
       "16521    11\n",
       "20803    11\n",
       "19211    11\n",
       "16841    11\n",
       "184      11\n",
       "19773    11\n",
       "12443    11\n",
       "5409     11\n",
       "3958     11\n",
       "4585     11\n",
       "5055     11\n",
       "16949    11\n",
       "13128    11\n",
       "21567    11\n",
       "16567    11\n",
       "15874    11\n",
       "15330    11\n",
       "19052    11\n",
       "5723     11\n",
       "15731    11\n",
       "11514    11\n",
       "15029    11\n",
       "20971    11\n",
       "5503     11\n",
       "4242     11\n",
       "9441     11\n",
       "Name: fire_type, Length: 41696, dtype: int64"
      ]
     },
     "execution_count": 174,
     "metadata": {},
     "output_type": "execute_result"
    }
   ],
   "source": [
    "df_balanced['fire_type']"
   ]
  },
  {
   "cell_type": "code",
   "execution_count": 165,
   "metadata": {},
   "outputs": [
    {
     "name": "stdout",
     "output_type": "stream",
     "text": [
      "29187 12509\n"
     ]
    }
   ],
   "source": [
    "X_train_bal, X_test_bal, y_train_bal, y_test_bal = train_test_split(X_bal, y_bal, test_size = 0.3, random_state = 42)\n",
    "N_train_bal, _ = X_train_bal.shape \n",
    "N_test_bal,  _ = X_test_bal.shape \n",
    "print(N_train_bal, N_test_bal)"
   ]
  },
  {
   "cell_type": "code",
   "execution_count": 167,
   "metadata": {},
   "outputs": [
    {
     "name": "stderr",
     "output_type": "stream",
     "text": [
      "/home/topus/anaconda3/lib/python3.7/site-packages/pandas/core/frame.py:5516: SettingWithCopyWarning: \n",
      "A value is trying to be set on a copy of a slice from a DataFrame.\n",
      "Try using .loc[row_indexer,col_indexer] = value instead\n",
      "\n",
      "See the caveats in the documentation: http://pandas.pydata.org/pandas-docs/stable/indexing.html#indexing-view-versus-copy\n",
      "  self[col] = expressions.where(mask, this, that)\n"
     ]
    },
    {
     "name": "stdout",
     "output_type": "stream",
     "text": [
      "            h1w       h2w       h3w  humidity       t1w       t2w       t3w  \\\n",
      "18392  0.564663  0.814660  0.620139  0.244773  0.128417  0.269970  0.211939   \n",
      "17114  0.005480 -0.633955 -0.831464  0.216606  1.069762  1.232100  1.361544   \n",
      "20066  0.042024 -0.045292  0.035410 -0.187826  0.127684  0.037892  0.161785   \n",
      "22237 -0.914760 -1.556729 -0.931536 -0.323877 -0.629711 -0.760438 -0.565159   \n",
      "18460  0.075265  0.127186 -0.006972  0.130511  0.618271  0.621385  0.740919   \n",
      "\n",
      "       temperature     uwind  \n",
      "18392    -0.335460  1.050398  \n",
      "17114     0.518163  0.926275  \n",
      "20066     0.296533 -0.349100  \n",
      "22237    -0.737992  1.885133  \n",
      "18460     0.653644  0.094641  \n"
     ]
    },
    {
     "name": "stderr",
     "output_type": "stream",
     "text": [
      "/home/topus/anaconda3/lib/python3.7/site-packages/pandas/core/frame.py:5516: SettingWithCopyWarning: \n",
      "A value is trying to be set on a copy of a slice from a DataFrame.\n",
      "Try using .loc[row_indexer,col_indexer] = value instead\n",
      "\n",
      "See the caveats in the documentation: http://pandas.pydata.org/pandas-docs/stable/indexing.html#indexing-view-versus-copy\n",
      "  self[col] = expressions.where(mask, this, that)\n"
     ]
    },
    {
     "name": "stdout",
     "output_type": "stream",
     "text": [
      "             h1w        h2w        h3w   humidity         t1w         t2w  \\\n",
      "14852  55.002930  65.268600  62.477615  50.759995  293.465881  290.994324   \n",
      "893    80.324295  83.080009  86.381424  81.750000  266.215698  264.472931   \n",
      "18608  63.098530  69.917870  70.438622  60.610001  282.519928  284.178528   \n",
      "21635  90.230049  82.479973  81.407112  94.029999  263.850037  267.570923   \n",
      "21941  51.431419  68.133621  72.931435  33.440002  270.938477  274.170624   \n",
      "\n",
      "              t3w  temperature     uwind  \n",
      "14852  292.794708   296.109985 -1.960007  \n",
      "893    261.153870   272.850006  2.050003  \n",
      "18608  283.717682   284.349976  0.690002  \n",
      "21635  269.972015   252.630005  3.199997  \n",
      "21941  274.664185   271.559998  0.309998  \n"
     ]
    }
   ],
   "source": [
    "# нормализация\n",
    "train_norm_bal = X_train_bal[X_train_bal.columns]\n",
    "test_norm_bal = X_test_bal[X_test_bal.columns[0:10]]\n",
    "\n",
    "std_scale = preprocessing.StandardScaler().fit(train_norm_bal)\n",
    "X_train_norm_bal = std_scale.transform(train_norm_bal)\n",
    "\n",
    "training_norm_col_bal = pd.DataFrame(X_train_norm_bal, index=train_norm_bal.index, columns=train_norm_bal.columns) \n",
    "X_train_bal.update(training_norm_col_bal)\n",
    "print (X_train_bal.head())\n",
    "\n",
    "# Нормализуем тестовые данные используя mean и stdev тренировочных данных\n",
    "X_test_norm_bal = std_scale.transform(test_norm_bal)\n",
    "testing_norm_col_bal = pd.DataFrame(X_test_norm_bal, index=test_norm_bal.index, columns=test_norm_bal.columns) \n",
    "X_test_bal.update(testing_norm_col_bal)\n",
    "print (X_test_bal.head())"
   ]
  },
  {
   "cell_type": "code",
   "execution_count": 168,
   "metadata": {},
   "outputs": [
    {
     "data": {
      "text/html": [
       "<div>\n",
       "<style scoped>\n",
       "    .dataframe tbody tr th:only-of-type {\n",
       "        vertical-align: middle;\n",
       "    }\n",
       "\n",
       "    .dataframe tbody tr th {\n",
       "        vertical-align: top;\n",
       "    }\n",
       "\n",
       "    .dataframe thead th {\n",
       "        text-align: right;\n",
       "    }\n",
       "</style>\n",
       "<table border=\"1\" class=\"dataframe\">\n",
       "  <thead>\n",
       "    <tr style=\"text-align: right;\">\n",
       "      <th></th>\n",
       "      <th>h1w</th>\n",
       "      <th>h2w</th>\n",
       "      <th>h3w</th>\n",
       "      <th>humidity</th>\n",
       "      <th>t1w</th>\n",
       "      <th>t2w</th>\n",
       "      <th>t3w</th>\n",
       "      <th>temperature</th>\n",
       "      <th>uwind</th>\n",
       "    </tr>\n",
       "  </thead>\n",
       "  <tbody>\n",
       "    <tr>\n",
       "      <th>count</th>\n",
       "      <td>2.918700e+04</td>\n",
       "      <td>2.918700e+04</td>\n",
       "      <td>2.918700e+04</td>\n",
       "      <td>2.918700e+04</td>\n",
       "      <td>2.918700e+04</td>\n",
       "      <td>2.918700e+04</td>\n",
       "      <td>2.918700e+04</td>\n",
       "      <td>2.918700e+04</td>\n",
       "      <td>2.918700e+04</td>\n",
       "    </tr>\n",
       "    <tr>\n",
       "      <th>mean</th>\n",
       "      <td>5.922559e-18</td>\n",
       "      <td>4.830860e-18</td>\n",
       "      <td>1.058681e-16</td>\n",
       "      <td>-1.779811e-17</td>\n",
       "      <td>-1.938430e-17</td>\n",
       "      <td>7.303348e-17</td>\n",
       "      <td>-3.479741e-17</td>\n",
       "      <td>-2.621598e-17</td>\n",
       "      <td>5.737693e-17</td>\n",
       "    </tr>\n",
       "    <tr>\n",
       "      <th>std</th>\n",
       "      <td>1.000017e+00</td>\n",
       "      <td>1.000017e+00</td>\n",
       "      <td>1.000017e+00</td>\n",
       "      <td>1.000017e+00</td>\n",
       "      <td>1.000017e+00</td>\n",
       "      <td>1.000017e+00</td>\n",
       "      <td>1.000017e+00</td>\n",
       "      <td>1.000017e+00</td>\n",
       "      <td>1.000017e+00</td>\n",
       "    </tr>\n",
       "    <tr>\n",
       "      <th>min</th>\n",
       "      <td>-2.671624e+00</td>\n",
       "      <td>-2.830858e+00</td>\n",
       "      <td>-2.786878e+00</td>\n",
       "      <td>-2.317871e+00</td>\n",
       "      <td>-3.821320e+00</td>\n",
       "      <td>-3.957593e+00</td>\n",
       "      <td>-3.857956e+00</td>\n",
       "      <td>-3.566688e+00</td>\n",
       "      <td>-4.898251e+00</td>\n",
       "    </tr>\n",
       "    <tr>\n",
       "      <th>25%</th>\n",
       "      <td>-7.622583e-01</td>\n",
       "      <td>-7.025435e-01</td>\n",
       "      <td>-6.498869e-01</td>\n",
       "      <td>-8.213127e-01</td>\n",
       "      <td>-4.688024e-01</td>\n",
       "      <td>-4.757768e-01</td>\n",
       "      <td>-5.016618e-01</td>\n",
       "      <td>-5.116665e-01</td>\n",
       "      <td>-4.980479e-01</td>\n",
       "    </tr>\n",
       "    <tr>\n",
       "      <th>50%</th>\n",
       "      <td>2.482049e-02</td>\n",
       "      <td>7.558576e-02</td>\n",
       "      <td>9.536647e-02</td>\n",
       "      <td>-4.911835e-02</td>\n",
       "      <td>1.153405e-01</td>\n",
       "      <td>8.046295e-02</td>\n",
       "      <td>2.608617e-02</td>\n",
       "      <td>1.383399e-01</td>\n",
       "      <td>6.051164e-02</td>\n",
       "    </tr>\n",
       "    <tr>\n",
       "      <th>75%</th>\n",
       "      <td>7.492465e-01</td>\n",
       "      <td>7.142339e-01</td>\n",
       "      <td>7.065084e-01</td>\n",
       "      <td>7.618715e-01</td>\n",
       "      <td>6.876165e-01</td>\n",
       "      <td>6.832580e-01</td>\n",
       "      <td>6.780026e-01</td>\n",
       "      <td>7.249122e-01</td>\n",
       "      <td>6.283754e-01</td>\n",
       "    </tr>\n",
       "    <tr>\n",
       "      <th>max</th>\n",
       "      <td>2.157629e+00</td>\n",
       "      <td>2.174755e+00</td>\n",
       "      <td>2.218587e+00</td>\n",
       "      <td>2.118128e+00</td>\n",
       "      <td>2.159419e+00</td>\n",
       "      <td>2.192528e+00</td>\n",
       "      <td>2.151725e+00</td>\n",
       "      <td>1.999859e+00</td>\n",
       "      <td>3.548397e+00</td>\n",
       "    </tr>\n",
       "  </tbody>\n",
       "</table>\n",
       "</div>"
      ],
      "text/plain": [
       "                h1w           h2w           h3w      humidity           t1w  \\\n",
       "count  2.918700e+04  2.918700e+04  2.918700e+04  2.918700e+04  2.918700e+04   \n",
       "mean   5.922559e-18  4.830860e-18  1.058681e-16 -1.779811e-17 -1.938430e-17   \n",
       "std    1.000017e+00  1.000017e+00  1.000017e+00  1.000017e+00  1.000017e+00   \n",
       "min   -2.671624e+00 -2.830858e+00 -2.786878e+00 -2.317871e+00 -3.821320e+00   \n",
       "25%   -7.622583e-01 -7.025435e-01 -6.498869e-01 -8.213127e-01 -4.688024e-01   \n",
       "50%    2.482049e-02  7.558576e-02  9.536647e-02 -4.911835e-02  1.153405e-01   \n",
       "75%    7.492465e-01  7.142339e-01  7.065084e-01  7.618715e-01  6.876165e-01   \n",
       "max    2.157629e+00  2.174755e+00  2.218587e+00  2.118128e+00  2.159419e+00   \n",
       "\n",
       "                t2w           t3w   temperature         uwind  \n",
       "count  2.918700e+04  2.918700e+04  2.918700e+04  2.918700e+04  \n",
       "mean   7.303348e-17 -3.479741e-17 -2.621598e-17  5.737693e-17  \n",
       "std    1.000017e+00  1.000017e+00  1.000017e+00  1.000017e+00  \n",
       "min   -3.957593e+00 -3.857956e+00 -3.566688e+00 -4.898251e+00  \n",
       "25%   -4.757768e-01 -5.016618e-01 -5.116665e-01 -4.980479e-01  \n",
       "50%    8.046295e-02  2.608617e-02  1.383399e-01  6.051164e-02  \n",
       "75%    6.832580e-01  6.780026e-01  7.249122e-01  6.283754e-01  \n",
       "max    2.192528e+00  2.151725e+00  1.999859e+00  3.548397e+00  "
      ]
     },
     "execution_count": 168,
     "metadata": {},
     "output_type": "execute_result"
    }
   ],
   "source": [
    "X_train_bal.describe()"
   ]
  },
  {
   "cell_type": "code",
   "execution_count": 169,
   "metadata": {},
   "outputs": [
    {
     "name": "stdout",
     "output_type": "stream",
     "text": [
      "0.12032754308424987 15\n",
      "CPU times: user 1min 36s, sys: 436 ms, total: 1min 36s\n",
      "Wall time: 1min 21s\n"
     ]
    }
   ],
   "source": [
    "%%time\n",
    "nnb = [1, 3, 5, 10, 15, 20, 25, 35, 45, 55]\n",
    "knn = KNeighborsClassifier(weights='distance')\n",
    "grid = GridSearchCV(knn, param_grid = {'n_neighbors': nnb}, cv=10)\n",
    "grid.fit(X_train_bal, y_train_bal)\n",
    "\n",
    "best_cv_err = 1 - grid.best_score_\n",
    "best_n_neighbors = grid.best_estimator_.n_neighbors\n",
    "print(best_cv_err, best_n_neighbors)"
   ]
  },
  {
   "cell_type": "code",
   "execution_count": 176,
   "metadata": {},
   "outputs": [
    {
     "name": "stdout",
     "output_type": "stream",
     "text": [
      "0.07654092575461678 0.8727316332240787\n",
      "0.12726836677592135 accuracy\n"
     ]
    }
   ],
   "source": [
    "knn_15 = KNeighborsClassifier(n_neighbors = 15, weights='distance').fit(X_train_bal, y_train_bal)\n",
    "err_train = np.mean(y_train_bal != knn_15.predict(X_train_bal))\n",
    "err_test  = np.mean(y_test_bal  != knn_15.predict(X_test_bal))\n",
    "Accuracy = knn_15.score(X_test_bal, y_test_bal)\n",
    "print(err_train, err_test)\n",
    "print(Accuracy, 'accuracy')"
   ]
  },
  {
   "cell_type": "markdown",
   "metadata": {},
   "source": [
    "KNN:\n",
    "Хороший для baseline решения\n",
    "Сильно зависит от нормализации и балансировки классов\n",
    "Подвержен curse of dimensionality\n",
    "Следует проработать значимые признаки, тогда решение вероятно улучшится и ускорится\n",
    "\n",
    "К сожалению в моем случае не удалось получить после балансировки классов лучший результат. На тренировачном наборе данных результат улучшился, однако на тестовом сильно упал.\n",
    "Значит ресемплинг классов производился неверно."
   ]
  },
  {
   "cell_type": "code",
   "execution_count": null,
   "metadata": {},
   "outputs": [],
   "source": []
  }
 ],
 "metadata": {
  "kernelspec": {
   "display_name": "Python 3",
   "language": "python",
   "name": "python3"
  },
  "language_info": {
   "codemirror_mode": {
    "name": "ipython",
    "version": 3
   },
   "file_extension": ".py",
   "mimetype": "text/x-python",
   "name": "python",
   "nbconvert_exporter": "python",
   "pygments_lexer": "ipython3",
   "version": "3.7.3"
  }
 },
 "nbformat": 4,
 "nbformat_minor": 2
}
